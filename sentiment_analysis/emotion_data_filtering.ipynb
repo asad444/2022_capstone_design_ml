{
 "cells": [
  {
   "cell_type": "code",
   "execution_count": 59,
   "metadata": {},
   "outputs": [],
   "source": [
    "import pandas as pd\n",
    "short_df = pd.read_excel('./한국어_단발성_대화_데이터셋.xlsx')\n",
    "long_df = pd.read_excel('./한국어_연속적_대화_데이터셋.xlsx')"
   ]
  },
  {
   "cell_type": "markdown",
   "metadata": {},
   "source": [
    "걱정(공포)/분노/슬픔/중립/행복"
   ]
  },
  {
   "cell_type": "code",
   "execution_count": 47,
   "metadata": {},
   "outputs": [],
   "source": [
    "new_df = short_df[short_df['Emotion'] != '놀람']\n",
    "new_df = new_df[new_df['Emotion'] != '혐오']\n",
    "for idx, row in new_df.iterrows():\n",
    "    if row.Emotion == '공포':\n",
    "        new_df.at[idx, 'Emotion'] = '걱정'\n",
    "new_df = new_df[['Sentence', 'Emotion']]"
   ]
  },
  {
   "cell_type": "code",
   "execution_count": 62,
   "metadata": {},
   "outputs": [
    {
     "data": {
      "text/html": [
       "<div>\n",
       "<style scoped>\n",
       "    .dataframe tbody tr th:only-of-type {\n",
       "        vertical-align: middle;\n",
       "    }\n",
       "\n",
       "    .dataframe tbody tr th {\n",
       "        vertical-align: top;\n",
       "    }\n",
       "\n",
       "    .dataframe thead th {\n",
       "        text-align: right;\n",
       "    }\n",
       "</style>\n",
       "<table border=\"1\" class=\"dataframe\">\n",
       "  <thead>\n",
       "    <tr style=\"text-align: right;\">\n",
       "      <th></th>\n",
       "      <th>Sentence</th>\n",
       "      <th>Emotion</th>\n",
       "    </tr>\n",
       "  </thead>\n",
       "  <tbody>\n",
       "    <tr>\n",
       "      <th>0</th>\n",
       "      <td>언니 동생으로 부르는게 맞는 일인가요..??</td>\n",
       "      <td>걱정</td>\n",
       "    </tr>\n",
       "    <tr>\n",
       "      <th>1</th>\n",
       "      <td>그냥 내 느낌일뿐겠지?</td>\n",
       "      <td>걱정</td>\n",
       "    </tr>\n",
       "    <tr>\n",
       "      <th>2</th>\n",
       "      <td>아직너무초기라서 그런거죠?</td>\n",
       "      <td>걱정</td>\n",
       "    </tr>\n",
       "    <tr>\n",
       "      <th>3</th>\n",
       "      <td>유치원버스 사고 낫다던데</td>\n",
       "      <td>걱정</td>\n",
       "    </tr>\n",
       "    <tr>\n",
       "      <th>4</th>\n",
       "      <td>근데 원래이런거맞나요</td>\n",
       "      <td>걱정</td>\n",
       "    </tr>\n",
       "    <tr>\n",
       "      <th>...</th>\n",
       "      <td>...</td>\n",
       "      <td>...</td>\n",
       "    </tr>\n",
       "    <tr>\n",
       "      <th>33160</th>\n",
       "      <td>유느님 내일 이면 해피투게더가하네요~^^</td>\n",
       "      <td>행복</td>\n",
       "    </tr>\n",
       "    <tr>\n",
       "      <th>33161</th>\n",
       "      <td>승관아~ 너에게 편지를 안 쓸 수가 없네.</td>\n",
       "      <td>행복</td>\n",
       "    </tr>\n",
       "    <tr>\n",
       "      <th>33162</th>\n",
       "      <td>패떴 개그계 큰 대모 이경실 씨 1탄 잘 봤습니다</td>\n",
       "      <td>행복</td>\n",
       "    </tr>\n",
       "    <tr>\n",
       "      <th>33163</th>\n",
       "      <td>유재석 오라버니 해피투게더 해피파출소 편 봤어요</td>\n",
       "      <td>행복</td>\n",
       "    </tr>\n",
       "    <tr>\n",
       "      <th>33164</th>\n",
       "      <td>유재석 오라버니 해피투게더 봤어요</td>\n",
       "      <td>행복</td>\n",
       "    </tr>\n",
       "  </tbody>\n",
       "</table>\n",
       "<p>27267 rows × 2 columns</p>\n",
       "</div>"
      ],
      "text/plain": [
       "                          Sentence Emotion\n",
       "0         언니 동생으로 부르는게 맞는 일인가요..??      걱정\n",
       "1                     그냥 내 느낌일뿐겠지?      걱정\n",
       "2                   아직너무초기라서 그런거죠?      걱정\n",
       "3                    유치원버스 사고 낫다던데      걱정\n",
       "4                      근데 원래이런거맞나요      걱정\n",
       "...                            ...     ...\n",
       "33160       유느님 내일 이면 해피투게더가하네요~^^      행복\n",
       "33161      승관아~ 너에게 편지를 안 쓸 수가 없네.      행복\n",
       "33162  패떴 개그계 큰 대모 이경실 씨 1탄 잘 봤습니다      행복\n",
       "33163   유재석 오라버니 해피투게더 해피파출소 편 봤어요      행복\n",
       "33164           유재석 오라버니 해피투게더 봤어요      행복\n",
       "\n",
       "[27267 rows x 2 columns]"
      ]
     },
     "execution_count": 62,
     "metadata": {},
     "output_type": "execute_result"
    }
   ],
   "source": [
    "new_df"
   ]
  },
  {
   "cell_type": "code",
   "execution_count": 48,
   "metadata": {},
   "outputs": [],
   "source": [
    "new_df.to_csv('./short_emotion.csv', index=False)"
   ]
  },
  {
   "cell_type": "code",
   "execution_count": 60,
   "metadata": {},
   "outputs": [],
   "source": [
    "long_df = long_df[['Sentence', 'Emotion']]"
   ]
  },
  {
   "cell_type": "code",
   "execution_count": 74,
   "metadata": {},
   "outputs": [],
   "source": [
    "emo_list = ['걱정', '분노', '슬픔', '중립', '행복']\n",
    "for idx, row in long_df.iterrows():\n",
    "    if row.Emotion == '공포':\n",
    "        long_df.at[idx, 'Emotion'] = '걱정'\n",
    "long_df = long_df[long_df['Emotion'] != '감정']\n",
    "long_df = long_df[long_df['Emotion'] != '혐오']\n",
    "long_df = long_df[long_df['Emotion'] != '놀람']\n",
    "long_df = long_df[long_df['Emotion'] != 'nan']\n",
    "long_df = long_df[long_df['Emotion'] != 'ㅍ']\n",
    "long_df = long_df[long_df['Emotion'] != 'ㄴ중립']\n",
    "long_df = long_df[long_df['Emotion'] != '분']\n",
    "long_df = long_df[long_df['Emotion'] != '줄']\n",
    "long_df.dropna(inplace=True)"
   ]
  },
  {
   "cell_type": "code",
   "execution_count": 77,
   "metadata": {},
   "outputs": [
    {
     "data": {
      "text/plain": [
       "array(['분노', '중립', '행복', '걱정', '슬픔'], dtype=object)"
      ]
     },
     "execution_count": 77,
     "metadata": {},
     "output_type": "execute_result"
    }
   ],
   "source": [
    "long_df['Emotion'].unique()"
   ]
  },
  {
   "cell_type": "code",
   "execution_count": 78,
   "metadata": {},
   "outputs": [
    {
     "data": {
      "text/plain": [
       "array(['걱정', '분노', '슬픔', '중립', '행복'], dtype=object)"
      ]
     },
     "execution_count": 78,
     "metadata": {},
     "output_type": "execute_result"
    }
   ],
   "source": [
    "new_df['Emotion'].unique()"
   ]
  },
  {
   "cell_type": "code",
   "execution_count": 83,
   "metadata": {},
   "outputs": [],
   "source": [
    "result = pd.concat([new_df, long_df], axis=0)"
   ]
  },
  {
   "cell_type": "code",
   "execution_count": 95,
   "metadata": {},
   "outputs": [
    {
     "name": "stdout",
     "output_type": "stream",
     "text": [
      "걱정: 5566\n",
      "분노: 9294\n",
      "슬픔: 7239\n",
      "중립: 48618\n",
      "행복: 7067\n"
     ]
    }
   ],
   "source": [
    "print(F\"걱정: {len(result[result['Emotion'] == '걱정'])}\")\n",
    "print(F\"분노: {len(result[result['Emotion'] == '분노'])}\")\n",
    "print(F\"슬픔: {len(result[result['Emotion'] == '슬픔'])}\")\n",
    "print(F\"중립: {len(result[result['Emotion'] == '중립'])}\")\n",
    "print(F\"행복: {len(result[result['Emotion'] == '행복'])}\")"
   ]
  },
  {
   "cell_type": "code",
   "execution_count": 96,
   "metadata": {},
   "outputs": [],
   "source": [
    "result.to_csv('./emotion_data.csv', index=False)"
   ]
  }
 ],
 "metadata": {
  "interpreter": {
   "hash": "28a4a7593db0aeb32591c6d880fc2645b662bf2e894ccdeb1773515f315db3ef"
  },
  "kernelspec": {
   "display_name": "Python 3.8.13 ('MLvenv')",
   "language": "python",
   "name": "python3"
  },
  "language_info": {
   "codemirror_mode": {
    "name": "ipython",
    "version": 3
   },
   "file_extension": ".py",
   "mimetype": "text/x-python",
   "name": "python",
   "nbconvert_exporter": "python",
   "pygments_lexer": "ipython3",
   "version": "3.8.13"
  },
  "orig_nbformat": 4
 },
 "nbformat": 4,
 "nbformat_minor": 2
}
