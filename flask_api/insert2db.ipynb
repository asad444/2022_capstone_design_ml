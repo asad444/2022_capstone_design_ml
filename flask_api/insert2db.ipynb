{
 "cells": [
  {
   "cell_type": "code",
   "execution_count": 1,
   "metadata": {},
   "outputs": [],
   "source": [
    "import sqlite3, json\n",
    "import pandas as pd"
   ]
  },
  {
   "cell_type": "code",
   "execution_count": 41,
   "metadata": {},
   "outputs": [],
   "source": [
    "DB = './db.db'\n",
    "\n",
    "def connect_db(DB):\n",
    "    try:\n",
    "        conn = sqlite3.connect(DB)\n",
    "        cur = conn.cursor()\n",
    "    except:\n",
    "        return None, None\n",
    "    return conn, cur\n",
    "\n",
    "def load_dataframe():\n",
    "    PATH = '../tags_embedding/json_data/processed_song.json'\n",
    "    with open(PATH, 'r', encoding='UTF8') as f:\n",
    "        data = json.load(f)\n",
    "    df = pd.json_normalize(data)\n",
    "    return df\n",
    "\n",
    "# Insert Music DataFrame to DB (need to add \"label\" column)\n",
    "def insert_music_to_db(conn, cur, df):\n",
    "    if conn == None or cur == None:\n",
    "        print(\"DB Connection Error\")\n",
    "        return\n",
    "    \n",
    "    for idx, row in df.iterrows():\n",
    "        music_num, title, artist, tag, cnt = (\n",
    "            row['id'], row['song_name'], ' '.join(row['artist_name_basket']), row['tags'], row['count']\n",
    "        )\n",
    "        cur.execute(\"INSERT INTO MUSIC (music_num, title, artist, tag, cnt) VALUES (?, ?, ?, ?, ?)\",\n",
    "                    (music_num, title, artist, tag, cnt))\n",
    "        \n",
    "    conn.commit()\n",
    "    conn.close()"
   ]
  },
  {
   "cell_type": "code",
   "execution_count": 37,
   "metadata": {},
   "outputs": [],
   "source": [
    "conn, cur = connect_db(DB)\n",
    "df = load_dataframe()\n",
    "insert_music_to_db(conn, cur, df)"
   ]
  }
 ],
 "metadata": {
  "interpreter": {
   "hash": "5282db85a9e1cee22de477f7cdb5c4d86bab959e9ed546bef376fbb57ee9efb3"
  },
  "kernelspec": {
   "display_name": "Python 3.9.10 ('.venv': venv)",
   "language": "python",
   "name": "python3"
  },
  "language_info": {
   "codemirror_mode": {
    "name": "ipython",
    "version": 3
   },
   "file_extension": ".py",
   "mimetype": "text/x-python",
   "name": "python",
   "nbconvert_exporter": "python",
   "pygments_lexer": "ipython3",
   "version": "3.8.13"
  },
  "orig_nbformat": 4
 },
 "nbformat": 4,
 "nbformat_minor": 2
}
