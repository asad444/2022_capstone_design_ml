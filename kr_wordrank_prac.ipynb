{
 "cells": [
  {
   "cell_type": "code",
   "execution_count": 137,
   "metadata": {},
   "outputs": [],
   "source": [
    "from krwordrank.word import summarize_with_keywords, KRWordRank\n",
    "from krwordrank.sentence import summarize_with_sentences\n",
    "from konlpy.tag import Kkma, Okt\n",
    "from collections import Counter"
   ]
  },
  {
   "cell_type": "code",
   "execution_count": 129,
   "metadata": {},
   "outputs": [],
   "source": [
    "JVM_PATH = \"/Library/Java/JavaVirtualMachines/zulu-15.jdk/Contents/Home/bin/java\"\n",
    "stopwords = {'안녕'}\n",
    "text = \"\"\"\n",
    "        회사 동료 분들과 다녀왔는데 분위기도 좋고 음식도 맛있었어요 \n",
    "        다만, 강남 토끼정이 강남 쉑쉑버거 골목길로 쭉 올라가야 하는데 다들 쉑쉑버거의 유혹에 넘어갈 뻔 했답니다 \n",
    "        강남역 맛집 토끼정의 외부 모습.\n",
    "        \"\"\"\n",
    "text = \"\"\"\n",
    "드론 활용 범위도 점차 확대되고 있다. 최근에는 미세먼지 관리에 드론이 활용되고 있다.\n",
    "서울시는 '미세먼지 계절관리제' 기간인 지난달부터 오는 3월까지 4개월간 드론에 측정장치를 달아 미세먼지 집중 관리를 실시하고 있다.\n",
    "드론은 산업단지와 사업장 밀집지역을 날아다니며 미세먼지 배출 수치를 점검하고, 현장 모습을 영상으로 담는다.\n",
    "영상을 통해 미세먼지 방지 시설을 제대로 가동하지 않는 업체와 무허가 시설에 대한 단속이 한층 수월해질 전망이다.\n",
    "드론 활용에 가장 적극적인 소방청은 광범위하고 복합적인 재난 대응 차원에서 드론과 관련 전문인력 보강을 꾸준히 이어가고 있다.\n",
    "지난해 말 기준 소방청이 보유한 드론은 총 304대, 드론 조종 자격증을 갖춘 소방대원의 경우 1,860명이다.\n",
    "이 중 실기평가지도 자격증까지 갖춘 ‘드론 전문가’ 21명도 배치돼 있다.\n",
    "소방청 관계자는 \"소방드론은 재난현장에서 영상정보를 수집, 산악ㆍ수난 사고 시 인명수색·구조활동,\n",
    "유독가스·폭발사고 시 대원안전 확보 등에 활용된다\"며\n",
    "\"향후 화재진압, 인명구조 등에도 드론을 활용하기 위해 연구개발(R&D)을 하고 있다\"고 말했다.\n",
    "\"\"\""
   ]
  },
  {
   "cell_type": "code",
   "execution_count": 138,
   "metadata": {},
   "outputs": [],
   "source": [
    "def get_min_count(text):\n",
    "    okt = Okt(jvmpath=JVM_PATH)\n",
    "    nouns = [word[0] for word in okt.pos(text, stem=True, norm=True) if word[1] == 'Noun']\n",
    "    count = 0\n",
    "    for key, cnt in Counter(nouns).most_common(5):\n",
    "        count += cnt\n",
    "    print(Counter(nouns))\n",
    "    return int(count/5)"
   ]
  },
  {
   "cell_type": "code",
   "execution_count": 139,
   "metadata": {},
   "outputs": [],
   "source": [
    "kkma = Kkma(jvmpath=JVM_PATH)\n",
    "sentences = kkma.sentences(text)"
   ]
  },
  {
   "cell_type": "code",
   "execution_count": 140,
   "metadata": {},
   "outputs": [
    {
     "name": "stdout",
     "output_type": "stream",
     "text": [
      "Counter({'드론': 11, '활용': 5, '미세먼지': 5, '영상': 3, '소방청': 3, '관리': 2, '현장': 2, '시설': 2, '재난': 2, '말': 2, '자격증': 2, '시': 2, '등': 2, '범위': 1, '점차': 1, '확대': 1, '최근': 1, '서울시': 1, '계절': 1, '관리제': 1, '기간': 1, '지난달': 1, '개': 1, '월간': 1, '측정': 1, '장치': 1, '달': 1, '집중': 1, '실시': 1, '산업': 1, '단지': 1, '사업': 1, '밀집': 1, '지역': 1, '배출': 1, '수치': 1, '점검': 1, '모습': 1, '통해': 1, '방지': 1, '제대로': 1, '가동': 1, '업체': 1, '무허가': 1, '대한': 1, '단속': 1, '한층': 1, '전망': 1, '가장': 1, '적극': 1, '복합': 1, '대응': 1, '차원': 1, '관련': 1, '전문': 1, '인력': 1, '보강': 1, '어가': 1, '지난해': 1, '기준': 1, '보유': 1, '총': 1, '조종': 1, '소방대': 1, '경우': 1, '명': 1, '이': 1, '중': 1, '실기': 1, '평가': 1, '지도': 1, '전문가': 1, '명도': 1, '배치': 1, '관계자': 1, '소방': 1, '정보': 1, '수집': 1, '산악': 1, '수난': 1, '사고': 1, '인명': 1, '수색': 1, '구조': 1, '활동': 1, '유독가스': 1, '폭발사고': 1, '대원': 1, '안전': 1, '확보': 1, '며': 1, '향후': 1, '화재': 1, '진압': 1, '인명구조': 1, '위해': 1, '연구개발': 1, '고': 1})\n"
     ]
    },
    {
     "data": {
      "text/plain": [
       "5"
      ]
     },
     "execution_count": 140,
     "metadata": {},
     "output_type": "execute_result"
    }
   ],
   "source": [
    "get_min_count(text)"
   ]
  },
  {
   "cell_type": "code",
   "execution_count": 141,
   "metadata": {},
   "outputs": [
    {
     "name": "stdout",
     "output_type": "stream",
     "text": [
      "Counter({'드론': 11, '활용': 5, '미세먼지': 5, '영상': 3, '소방청': 3, '관리': 2, '현장': 2, '시설': 2, '재난': 2, '말': 2, '자격증': 2, '시': 2, '등': 2, '범위': 1, '점차': 1, '확대': 1, '최근': 1, '서울시': 1, '계절': 1, '관리제': 1, '기간': 1, '지난달': 1, '개': 1, '월간': 1, '측정': 1, '장치': 1, '달': 1, '집중': 1, '실시': 1, '산업': 1, '단지': 1, '사업': 1, '밀집': 1, '지역': 1, '배출': 1, '수치': 1, '점검': 1, '모습': 1, '통해': 1, '방지': 1, '제대로': 1, '가동': 1, '업체': 1, '무허가': 1, '대한': 1, '단속': 1, '한층': 1, '전망': 1, '가장': 1, '적극': 1, '복합': 1, '대응': 1, '차원': 1, '관련': 1, '전문': 1, '인력': 1, '보강': 1, '어가': 1, '지난해': 1, '기준': 1, '보유': 1, '총': 1, '조종': 1, '소방대': 1, '경우': 1, '명': 1, '이': 1, '중': 1, '실기': 1, '평가': 1, '지도': 1, '전문가': 1, '명도': 1, '배치': 1, '관계자': 1, '소방': 1, '정보': 1, '수집': 1, '산악': 1, '수난': 1, '사고': 1, '인명': 1, '수색': 1, '구조': 1, '활동': 1, '유독가스': 1, '폭발사고': 1, '대원': 1, '안전': 1, '확보': 1, '며': 1, '향후': 1, '화재': 1, '진압': 1, '인명구조': 1, '위해': 1, '연구개발': 1, '고': 1})\n",
      "scan vocabs ... \n",
      "num vocabs = 23\n",
      "done = 10\n"
     ]
    }
   ],
   "source": [
    "wordrank_extractor = KRWordRank(\n",
    "    min_count = get_min_count(text),\n",
    "    max_length = 10,\n",
    "    verbose=True\n",
    ")\n",
    "\n",
    "beta, max_iter = 0.85, 10\n",
    "keywords, rank, graph = wordrank_extractor.extract(sentences, beta, max_iter)"
   ]
  },
  {
   "cell_type": "code",
   "execution_count": 142,
   "metadata": {},
   "outputs": [
    {
     "data": {
      "text/plain": [
       "{'드론': 2.471818660183884,\n",
       " '있다.': 1.3690036520596678,\n",
       " '먼지': 1.1318996961293561,\n",
       " '미세': 1.1318996961293561,\n",
       " '활용': 0.6351671223173694}"
      ]
     },
     "execution_count": 142,
     "metadata": {},
     "output_type": "execute_result"
    }
   ],
   "source": [
    "keywords"
   ]
  }
 ],
 "metadata": {
  "interpreter": {
   "hash": "28a4a7593db0aeb32591c6d880fc2645b662bf2e894ccdeb1773515f315db3ef"
  },
  "kernelspec": {
   "display_name": "Python 3.8.13 ('MLvenv')",
   "language": "python",
   "name": "python3"
  },
  "language_info": {
   "codemirror_mode": {
    "name": "ipython",
    "version": 3
   },
   "file_extension": ".py",
   "mimetype": "text/x-python",
   "name": "python",
   "nbconvert_exporter": "python",
   "pygments_lexer": "ipython3",
   "version": "3.8.13"
  },
  "orig_nbformat": 4
 },
 "nbformat": 4,
 "nbformat_minor": 2
}
