{
 "cells": [
  {
   "cell_type": "markdown",
   "metadata": {},
   "source": [
    "Word Embedding using \"FastText\" with pretrained model\n",
    "(Word2Vec의 경우 단어사전에 없는 단어의 경우 유사도를 측정하지 못하기 때문에 fastText를 사용했음)"
   ]
  },
  {
   "cell_type": "code",
   "execution_count": 1,
   "metadata": {
    "vscode": {
     "languageId": "markdown"
    }
   },
   "outputs": [],
   "source": [
    "from gensim import models "
   ]
  },
  {
   "cell_type": "code",
   "execution_count": 4,
   "metadata": {},
   "outputs": [],
   "source": [
    "# cc.ko.300.bin -> https://fasttext.cc/docs/en/crawl-vectors.html\n",
    "model = models.fasttext.load_facebook_model('./cc.ko.300.bin')"
   ]
  },
  {
   "cell_type": "code",
   "execution_count": 5,
   "metadata": {},
   "outputs": [
    {
     "name": "stdout",
     "output_type": "stream",
     "text": [
      "가슴운동: 0.6703336238861084\n",
      "데드리프트: 0.6351081728935242\n",
      "대퇴사두근: 0.631633996963501\n",
      "벤치프레스를: 0.6305992603302002\n",
      "등운동: 0.627553403377533\n",
      "스쿼트: 0.6240214705467224\n",
      "복근운동: 0.6091311573982239\n",
      "허리운동: 0.6078954935073853\n",
      "푸시업: 0.6078779697418213\n",
      "케틀벨: 0.6057581901550293\n"
     ]
    }
   ],
   "source": [
    "for w, sim in model.wv.similar_by_word('벤치프레스', 10):\n",
    "    print(F\"{w}: {sim}\")"
   ]
  }
 ],
 "metadata": {
  "interpreter": {
   "hash": "28a4a7593db0aeb32591c6d880fc2645b662bf2e894ccdeb1773515f315db3ef"
  },
  "kernelspec": {
   "display_name": "Python 3.8.13 ('MLvenv')",
   "language": "python",
   "name": "python3"
  },
  "language_info": {
   "codemirror_mode": {
    "name": "ipython",
    "version": 3
   },
   "file_extension": ".py",
   "mimetype": "text/x-python",
   "name": "python",
   "nbconvert_exporter": "python",
   "pygments_lexer": "ipython3",
   "version": "3.8.13"
  },
  "orig_nbformat": 4
 },
 "nbformat": 4,
 "nbformat_minor": 2
}
