{
 "cells": [
  {
   "cell_type": "markdown",
   "metadata": {},
   "source": [
    "tag_clustering.ipynb\n",
    "- playlist_processing.ipynb를 통해 각 노래마다의 태그들에 대해 DBSCAN으로 클러스터링을 진행해 같은 분위기의 노래를 군집화한다.\n",
    "\n",
    "- input: processed_song.json\n",
    "- output: developing"
   ]
  },
  {
   "cell_type": "code",
   "execution_count": 17,
   "metadata": {},
   "outputs": [],
   "source": [
    "import json\n",
    "import pandas as pd\n",
    "import numpy as np\n",
    "from collections import Counter\n",
    "from sklearn.feature_extraction.text import TfidfVectorizer\n",
    "from sklearn.preprocessing import normalize\n",
    "from sklearn.cluster import DBSCAN"
   ]
  },
  {
   "cell_type": "code",
   "execution_count": 2,
   "metadata": {},
   "outputs": [],
   "source": [
    "# load music dataframe \n",
    "def load_music_df(PATH = './json_data/processed_song.json'):\n",
    "    with open(PATH, 'r', encoding='UTF8') as f:\n",
    "        data = json.load(f)\n",
    "    df = pd.json_normalize(data)\n",
    "    return df\n",
    "\n",
    "# take most common k tags \n",
    "def extract_common_tags(df: pd.DataFrame, k=100):\n",
    "    tags = []\n",
    "    for idx, row in df.iterrows():\n",
    "        tags.extend(row['tags'].split())\n",
    "    return [tag for [tag, cnt] in Counter(tags).most_common(k)]\n",
    "\n",
    "# except tags not in most common k tags\n",
    "def only_common_tags(df: pd.DataFrame, tags: list):\n",
    "    for idx, row in df.iterrows():\n",
    "        df.loc[idx, 'new_tags'] = ' '.join([tag for tag in row['tags'].split() if tag in tags])\n",
    "    df.drop('tags', axis=1, inplace=True)\n",
    "    return df\n",
    "\n",
    "# tags clustering with DBSCAN\n",
    "def clustering_with_dbscan(df: pd.DataFrame):\n",
    "    text = df['new_tags'].to_list()\n",
    "    vectorizer = TfidfVectorizer(min_df = 5, ngram_range = (1,5))\n",
    "    vectorizer.fit(text)\n",
    "    vector = np.array(vectorizer.transform(text).toarray())\n",
    "    \n",
    "    # DBSCAN clustering model\n",
    "    model = DBSCAN(eps = 0.1, metric = \"cosine\")\n",
    "    df['label'] = model.fit_predict(vector)\n",
    "    return df"
   ]
  },
  {
   "cell_type": "code",
   "execution_count": 3,
   "metadata": {},
   "outputs": [],
   "source": [
    "df = load_music_df()\n",
    "tags = extract_common_tags(df)\n",
    "df = only_common_tags(df, tags)\n",
    "df = clustering_with_dbscan(df)"
   ]
  },
  {
   "cell_type": "code",
   "execution_count": 11,
   "metadata": {},
   "outputs": [],
   "source": [
    "text = df['new_tags'].to_list()\n",
    "vectorizer = TfidfVectorizer(min_df=5, ngram_range=(1, 5))\n",
    "vectorizer.fit(text)\n",
    "vector = np.array(vectorizer.transform(text).toarray())"
   ]
  },
  {
   "cell_type": "code",
   "execution_count": 18,
   "metadata": {},
   "outputs": [],
   "source": [
    "model = DBSCAN(eps=0.1, metric = \"cosine\")\n",
    "result = model.fit_predict(vector)"
   ]
  },
  {
   "cell_type": "code",
   "execution_count": 21,
   "metadata": {},
   "outputs": [
    {
     "data": {
      "text/plain": [
       "array([  0,  -1,   1, ...,  -1,  -1, 119])"
      ]
     },
     "execution_count": 21,
     "metadata": {},
     "output_type": "execute_result"
    }
   ],
   "source": [
    "result"
   ]
  },
  {
   "cell_type": "code",
   "execution_count": 7,
   "metadata": {},
   "outputs": [],
   "source": [
    "def get_cluster_details(cluster_model, cluster_data, feature_names,\n",
    "                       cluster_num, top_n_features=10):\n",
    "    cluster_details = {}\n",
    "    center_feature_idx = cluster_model.cluster_centers_.argsort()[:,::-1]\n",
    "    \n",
    "    for cluster_num in range(cluster_num):\n",
    "        cluster_details[cluster_num] = {}\n",
    "        cluster_details[cluster_num]['cluster'] = cluster_num\n",
    "        \n",
    "        top_ftr_idx = center_feature_idx[cluster_num, :top_n_features]\n",
    "        top_ftr = [feature_names[idx] for idx in top_ftr_idx]\n",
    "        top_ftr_val = cluster_model.cluster_centers_[cluster_num, top_ftr_idx].tolist()\n",
    "        \n",
    "        cluster_details[cluster_num]['top_features'] = top_ftr\n",
    "        cluster_details[cluster_num]['top_featrues_value'] = top_ftr_val\n",
    "        filenames = cluster_data[cluster_data['labels']==cluster_num]['tags']\n",
    "        filenames = filenames.values.tolist()\n",
    "        cluster_details[cluster_num]['filenames'] = filenames\n",
    "    \n",
    "    return cluster_details\n",
    "feature_names = vectorizer.get_feature_names_out()\n",
    "details = get_cluster_details(cluster_model=kmeans, cluster_data=df, feature_names=feature_names, cluster_num=n_clusters)"
   ]
  },
  {
   "cell_type": "code",
   "execution_count": 8,
   "metadata": {},
   "outputs": [
    {
     "name": "stdout",
     "output_type": "stream",
     "text": [
      "0 ['기분전환', '감성', '인디', '발라드', '아이돌', '힙합', '휴식', '드라이브', '힐링', '겨울']\n",
      "1 ['새벽', '잔잔한', '감성', '휴식', '새벽감성', '힐링', '인디', '위로', '잠들기전', '몽환']\n",
      "2 ['운동', '댄스', '아이돌', '스트레스', '드라이브', '기분전환', '신나는', 'kpop', '걸그룹', '케이팝']\n",
      "3 ['설렘', '사랑', '힐링', '휴식', '까페', '기분전환', '새벽', '잔잔한', '인디', '발라드']\n",
      "4 ['알앤비', '힙합', '소울', '감성힙합', '감성', '트렌디', 'rnb', '새벽', '드라이브', '그루브']\n",
      "5 ['회상', '추억', '이별', '슬픔', '발라드', '새벽', '감성', '힐링', '잔잔한', '휴식']\n",
      "6 ['설렘', '달달', '사랑', '연애', '고백', '데이트', '달달한', '벚꽃', '두근두근', '연인']\n",
      "7 ['이별', '슬픔', '발라드', '감성', '새벽', '비오는날', '사랑', '잔잔한', '눈물', '가을']\n",
      "8 ['카페', '감성', '인디', '잔잔한', '휴식', '새벽', '기분전환', '어쿠스틱', '가을', '버스']\n",
      "9 ['여름', '시원한', '더위', '드라이브', '청량한', '신나는', '여행', '트로피컬', '기분전환', '댄스']\n"
     ]
    }
   ],
   "source": [
    "for key, value in details.items():\n",
    "    print(key, value['top_features'])"
   ]
  },
  {
   "cell_type": "code",
   "execution_count": 9,
   "metadata": {},
   "outputs": [
    {
     "name": "stdout",
     "output_type": "stream",
     "text": [
      "Cluster 0: 7049\n",
      "Cluster 1: 1756\n",
      "Cluster 2: 1681\n",
      "Cluster 3: 1473\n",
      "Cluster 4: 1647\n",
      "Cluster 5: 1854\n",
      "Cluster 6: 1542\n",
      "Cluster 7: 2116\n",
      "Cluster 8: 1872\n",
      "Cluster 9: 580\n"
     ]
    }
   ],
   "source": [
    "for i in range(0, 10):\n",
    "    print(F\"Cluster {i}: {len(df[df['labels'] == i])}\")"
   ]
  }
 ],
 "metadata": {
  "interpreter": {
   "hash": "7dd23b84e5370f0c038a7334c8674d5b52828e0bdc7ce9fda2e022d50c3c3919"
  },
  "kernelspec": {
   "display_name": "Python 3.9.10 ('ML': venv)",
   "language": "python",
   "name": "python3"
  },
  "language_info": {
   "codemirror_mode": {
    "name": "ipython",
    "version": 3
   },
   "file_extension": ".py",
   "mimetype": "text/x-python",
   "name": "python",
   "nbconvert_exporter": "python",
   "pygments_lexer": "ipython3",
   "version": "3.8.13"
  },
  "orig_nbformat": 4
 },
 "nbformat": 4,
 "nbformat_minor": 2
}
