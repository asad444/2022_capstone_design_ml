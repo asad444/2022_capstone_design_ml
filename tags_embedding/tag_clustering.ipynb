{
 "cells": [
  {
   "cell_type": "markdown",
   "metadata": {},
   "source": [
    "tag_clustering.ipynb\n",
    "- playlist_processing.ipynb를 통해 각 노래마다의 태그들에 대해 K-means 클러스터링을 진행해 같은 분위기의 노래를 군집화한다.\n",
    "\n",
    "- input: processed_song.json\n",
    "- output: developing"
   ]
  },
  {
   "cell_type": "code",
   "execution_count": 139,
   "metadata": {},
   "outputs": [],
   "source": [
    "import json, sqlite3\n",
    "import pandas as pd\n",
    "import numpy as np\n",
    "from collections import Counter\n",
    "from sklearn.feature_extraction.text import TfidfVectorizer\n",
    "from sklearn.preprocessing import normalize\n",
    "from sklearn.cluster import KMeans"
   ]
  },
  {
   "cell_type": "code",
   "execution_count": 144,
   "metadata": {},
   "outputs": [],
   "source": [
    "class Music_Labeler:\n",
    "    \n",
    "    # Load music Dataframe and take most common k tags\n",
    "    def __init__(\n",
    "            self, \n",
    "            PATH = './json_data/processed_song.json',\n",
    "            most_common_k = 100,\n",
    "        ):\n",
    "        \n",
    "        with open(PATH, 'r', encoding=\"UTF8\") as f:\n",
    "            data = json.load(f)\n",
    "        self.df = pd.json_normalize(data)\n",
    "        \n",
    "        # take only most common k tags\n",
    "        common_tags = []\n",
    "        for idx, row in self.df.iterrows():\n",
    "            common_tags.extend(row['tags'].split())\n",
    "        self.tags = [tag for [tag, cnt] in Counter(tags).most_common(most_common_k)]\n",
    "        \n",
    "        # except tags not in most common k tags each music \n",
    "        for idx, row in self.df.iterrows():\n",
    "            self.df.loc[idx, 'new_tags'] = ' '.join([tag for tag in row['tags'].split() if tag in self.tags])\n",
    "        self.df.drop('tags', axis=1, inplace=True)  \n",
    "    \n",
    "    def run(self):\n",
    "        self.clustering_with_kmeans()\n",
    "        self.result2db()\n",
    "        \n",
    "    def clustering_with_kmeans(self, n_clusters = 50):\n",
    "        text = self.df['new_tags'].to_list()\n",
    "        vectorizer = TfidfVectorizer(min_df = 5)\n",
    "        X = normalize(vectorizer.fit_transform(text))\n",
    "        \n",
    "        # K-means model with @n_clusters clusters\n",
    "        model = KMeans(n_clusters=n_clusters, random_state=10)\n",
    "        self.df['label'] = model.fit_predict(X)\n",
    "        \n",
    "        # details(tags) each cluster \n",
    "        self.cluster_details = {}\n",
    "        center_feature_idx = model.cluster_centers_.argsort()[:, ::-1]\n",
    "        feature_names = vectorizer.get_feature_names_out()\n",
    "        \n",
    "        for cluster_num in range(n_clusters):\n",
    "            self.cluster_details[cluster_num] = {}\n",
    "            self.cluster_details[cluster_num]['cluster'] = cluster_num\n",
    "            \n",
    "            top_ftr_idx = center_feature_idx[cluster_num, :10]\n",
    "            top_ftr = [feature_names[idx] for idx in top_ftr_idx]\n",
    "            top_ftr_val = model.cluster_centers_[cluster_num, top_ftr_idx].tolist()\n",
    "            \n",
    "            self.cluster_details[cluster_num]['top_features'] = top_ftr\n",
    "            self.cluster_details[cluster_num]['top_features_value'] = top_ftr_val\n",
    "    \n",
    "    def result2db(self, DB = './flask_api/db.db'):\n",
    "        try:\n",
    "            conn = sqlite3.connect(DB)\n",
    "            cur = conn.cursor()\n",
    "        except:\n",
    "            print(\"DB Connection Error!\")\n",
    "            return\n",
    "        \n",
    "        try:\n",
    "            cur.execute(\"DELETE FROM CLUSTER\")\n",
    "            for key, tags in self.cluster_details.items():\n",
    "                for tag in tags['top_features']:\n",
    "                    cur.execute(\"INSERT INTO CLUSTER VALUES (?, ?)\", (key, tag))\n",
    "        except:\n",
    "            print(\"Failed to execute query\")\n",
    "            return\n",
    "        finally:        \n",
    "            conn.commit()\n",
    "            conn.close()\n",
    "        "
   ]
  },
  {
   "cell_type": "code",
   "execution_count": null,
   "metadata": {},
   "outputs": [],
   "source": [
    "labeler = Music_Labeler()\n",
    "labeler.run()"
   ]
  }
 ],
 "metadata": {
  "interpreter": {
   "hash": "7dd23b84e5370f0c038a7334c8674d5b52828e0bdc7ce9fda2e022d50c3c3919"
  },
  "kernelspec": {
   "display_name": "Python 3.9.10 ('ML': venv)",
   "language": "python",
   "name": "python3"
  },
  "language_info": {
   "codemirror_mode": {
    "name": "ipython",
    "version": 3
   },
   "file_extension": ".py",
   "mimetype": "text/x-python",
   "name": "python",
   "nbconvert_exporter": "python",
   "pygments_lexer": "ipython3",
   "version": "3.8.13"
  },
  "orig_nbformat": 4
 },
 "nbformat": 4,
 "nbformat_minor": 2
}
