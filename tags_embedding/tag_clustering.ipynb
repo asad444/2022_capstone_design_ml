{
 "cells": [
  {
   "cell_type": "markdown",
   "metadata": {},
   "source": [
    "tag_clustering.ipynb\n",
    "- playlist_processing.ipynb를 통해 각 노래마다의 태그들에 대해 클러스터링을 진행해 같은 분위기의 노래를 군집화한다.\n",
    "- 일단 10개의 클러스터로 정했고 각 클러스터를 대표하는 태그들은 get_cluster_details를 통해 구함\n",
    "\n",
    "- input: processed_song.json\n",
    "- output: developing"
   ]
  },
  {
   "cell_type": "code",
   "execution_count": 2,
   "metadata": {},
   "outputs": [],
   "source": [
    "import json\n",
    "import pandas as pd\n",
    "from sklearn.feature_extraction.text import TfidfVectorizer\n",
    "from sklearn.preprocessing import normalize\n",
    "from sklearn.cluster import KMeans"
   ]
  },
  {
   "cell_type": "code",
   "execution_count": 4,
   "metadata": {},
   "outputs": [],
   "source": [
    "with open('./json_data/processed_song.json', 'r', encoding='UTF8') as f:\n",
    "    data = json.load(f)\n",
    "df = pd.json_normalize(data)"
   ]
  },
  {
   "cell_type": "code",
   "execution_count": 5,
   "metadata": {},
   "outputs": [],
   "source": [
    "content = df['tags'].tolist()"
   ]
  },
  {
   "cell_type": "code",
   "execution_count": 6,
   "metadata": {},
   "outputs": [],
   "source": [
    "n_clusters = 10\n",
    "vectorizer = TfidfVectorizer()\n",
    "X = vectorizer.fit_transform(content)\n",
    "\n",
    "kmeans = KMeans(n_clusters=n_clusters).fit(X)\n",
    "\n",
    "labels = kmeans.labels_\n",
    "centers = kmeans.cluster_centers_\n",
    "df['labels'] = labels"
   ]
  },
  {
   "cell_type": "code",
   "execution_count": 7,
   "metadata": {},
   "outputs": [],
   "source": [
    "def get_cluster_details(cluster_model, cluster_data, feature_names,\n",
    "                       cluster_num, top_n_features=10):\n",
    "    cluster_details = {}\n",
    "    center_feature_idx = cluster_model.cluster_centers_.argsort()[:,::-1]\n",
    "    \n",
    "    for cluster_num in range(cluster_num):\n",
    "        cluster_details[cluster_num] = {}\n",
    "        cluster_details[cluster_num]['cluster'] = cluster_num\n",
    "        \n",
    "        top_ftr_idx = center_feature_idx[cluster_num, :top_n_features]\n",
    "        top_ftr = [feature_names[idx] for idx in top_ftr_idx]\n",
    "        top_ftr_val = cluster_model.cluster_centers_[cluster_num, top_ftr_idx].tolist()\n",
    "        \n",
    "        cluster_details[cluster_num]['top_features'] = top_ftr\n",
    "        cluster_details[cluster_num]['top_featrues_value'] = top_ftr_val\n",
    "        filenames = cluster_data[cluster_data['labels']==cluster_num]['tags']\n",
    "        filenames = filenames.values.tolist()\n",
    "        cluster_details[cluster_num]['filenames'] = filenames\n",
    "    \n",
    "    return cluster_details\n",
    "feature_names = vectorizer.get_feature_names_out()\n",
    "details = get_cluster_details(cluster_model=kmeans, cluster_data=df, feature_names=feature_names, cluster_num=n_clusters)"
   ]
  },
  {
   "cell_type": "code",
   "execution_count": 8,
   "metadata": {},
   "outputs": [
    {
     "name": "stdout",
     "output_type": "stream",
     "text": [
      "0 ['기분전환', '감성', '인디', '발라드', '아이돌', '힙합', '휴식', '드라이브', '힐링', '겨울']\n",
      "1 ['새벽', '잔잔한', '감성', '휴식', '새벽감성', '힐링', '인디', '위로', '잠들기전', '몽환']\n",
      "2 ['운동', '댄스', '아이돌', '스트레스', '드라이브', '기분전환', '신나는', 'kpop', '걸그룹', '케이팝']\n",
      "3 ['설렘', '사랑', '힐링', '휴식', '까페', '기분전환', '새벽', '잔잔한', '인디', '발라드']\n",
      "4 ['알앤비', '힙합', '소울', '감성힙합', '감성', '트렌디', 'rnb', '새벽', '드라이브', '그루브']\n",
      "5 ['회상', '추억', '이별', '슬픔', '발라드', '새벽', '감성', '힐링', '잔잔한', '휴식']\n",
      "6 ['설렘', '달달', '사랑', '연애', '고백', '데이트', '달달한', '벚꽃', '두근두근', '연인']\n",
      "7 ['이별', '슬픔', '발라드', '감성', '새벽', '비오는날', '사랑', '잔잔한', '눈물', '가을']\n",
      "8 ['카페', '감성', '인디', '잔잔한', '휴식', '새벽', '기분전환', '어쿠스틱', '가을', '버스']\n",
      "9 ['여름', '시원한', '더위', '드라이브', '청량한', '신나는', '여행', '트로피컬', '기분전환', '댄스']\n"
     ]
    }
   ],
   "source": [
    "for key, value in details.items():\n",
    "    print(key, value['top_features'])"
   ]
  },
  {
   "cell_type": "code",
   "execution_count": 9,
   "metadata": {},
   "outputs": [
    {
     "name": "stdout",
     "output_type": "stream",
     "text": [
      "Cluster 0: 7049\n",
      "Cluster 1: 1756\n",
      "Cluster 2: 1681\n",
      "Cluster 3: 1473\n",
      "Cluster 4: 1647\n",
      "Cluster 5: 1854\n",
      "Cluster 6: 1542\n",
      "Cluster 7: 2116\n",
      "Cluster 8: 1872\n",
      "Cluster 9: 580\n"
     ]
    }
   ],
   "source": [
    "for i in range(0, 10):\n",
    "    print(F\"Cluster {i}: {len(df[df['labels'] == i])}\")"
   ]
  }
 ],
 "metadata": {
  "interpreter": {
   "hash": "7dd23b84e5370f0c038a7334c8674d5b52828e0bdc7ce9fda2e022d50c3c3919"
  },
  "kernelspec": {
   "display_name": "Python 3.9.10 ('ML': venv)",
   "language": "python",
   "name": "python3"
  },
  "language_info": {
   "codemirror_mode": {
    "name": "ipython",
    "version": 3
   },
   "file_extension": ".py",
   "mimetype": "text/x-python",
   "name": "python",
   "nbconvert_exporter": "python",
   "pygments_lexer": "ipython3",
   "version": "3.8.13"
  },
  "orig_nbformat": 4
 },
 "nbformat": 4,
 "nbformat_minor": 2
}
