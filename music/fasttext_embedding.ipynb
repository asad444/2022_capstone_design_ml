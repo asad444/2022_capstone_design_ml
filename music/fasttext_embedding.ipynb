{
 "cells": [
  {
   "cell_type": "markdown",
   "metadata": {},
   "source": [
    "Word Embedding using \"FastText\" with pretrained model\n",
    "(Word2Vec의 경우 단어사전에 없는 단어의 경우 유사도를 측정하지 못하기 때문에 fastText를 사용했음)"
   ]
  },
  {
   "cell_type": "code",
   "execution_count": 1,
   "metadata": {},
   "outputs": [],
   "source": [
    "from gensim import models\n",
    "# cc.ko.300.bin -> https://fasttext.cc/docs/en/crawl-vectors.html\n",
    "model = models.fasttext.load_facebook_model('./cc.ko.300.bin')"
   ]
  },
  {
   "cell_type": "code",
   "execution_count": 16,
   "metadata": {},
   "outputs": [
    {
     "data": {
      "text/plain": [
       "0.3666057"
      ]
     },
     "execution_count": 16,
     "metadata": {},
     "output_type": "execute_result"
    }
   ],
   "source": [
    "model.wv.similarity('화남', '아픔')\n",
    "# for w, sim in model.wv.similar_by_word('벤치프레스', 10):\n",
    "#     print(F\"{w}: {sim}\")"
   ]
  }
 ],
 "metadata": {
  "interpreter": {
   "hash": "28a4a7593db0aeb32591c6d880fc2645b662bf2e894ccdeb1773515f315db3ef"
  },
  "kernelspec": {
   "display_name": "Python 3.8.13 ('MLvenv')",
   "language": "python",
   "name": "python3"
  },
  "language_info": {
   "codemirror_mode": {
    "name": "ipython",
    "version": 3
   },
   "file_extension": ".py",
   "mimetype": "text/x-python",
   "name": "python",
   "nbconvert_exporter": "python",
   "pygments_lexer": "ipython3",
   "version": "3.8.13"
  },
  "orig_nbformat": 4
 },
 "nbformat": 4,
 "nbformat_minor": 2
}
