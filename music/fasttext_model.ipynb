{
 "cells": [
  {
   "cell_type": "code",
   "execution_count": 1,
   "metadata": {},
   "outputs": [],
   "source": [
    "import json, re\n",
    "import numpy as np\n",
    "import pandas as pd\n",
    "from konlpy.tag import Okt"
   ]
  },
  {
   "cell_type": "code",
   "execution_count": 2,
   "metadata": {},
   "outputs": [
    {
     "name": "stdout",
     "output_type": "stream",
     "text": [
      "[0.005s][warning][os,thread] Attempt to protect stack guard pages failed (0x000000016b1e0000-0x000000016b1ec000).\n",
      "[0.005s][warning][os,thread] Attempt to deallocate stack guard pages failed.\n"
     ]
    }
   ],
   "source": [
    "okt = Okt(jvmpath='/Library/Java/JavaVirtualMachines/zulu-11.jdk/Contents/Home/bin/java')"
   ]
  },
  {
   "cell_type": "code",
   "execution_count": 3,
   "metadata": {},
   "outputs": [],
   "source": [
    "playlist_path = './music/json_data/train.json'\n",
    "with open(playlist_path, 'r', encoding='UTF8') as f:\n",
    "    data = json.load(f)\n",
    "df = pd.json_normalize(data)\n",
    "df.sort_values(by=['like_cnt','updt_date'], ascending=False, inplace=True)"
   ]
  },
  {
   "cell_type": "code",
   "execution_count": 4,
   "metadata": {},
   "outputs": [],
   "source": [
    "okt = Okt(jvmpath='/Library/Java/JavaVirtualMachines/zulu-11.jdk/Contents/Home/bin/java')"
   ]
  },
  {
   "cell_type": "code",
   "execution_count": 5,
   "metadata": {},
   "outputs": [],
   "source": [
    "# plylst_title 전처리\n",
    "def preprocessing(okt, text: str):\n",
    "    stopwords = ['노래', '음악', '빌보드', '멜론', '플레이리스트', '모음', '리스트', '제목', '모음집', '플레이', '년대', '그때', '명곡', '뮤직', '정말', '쯔음', '차트', '영화']\n",
    "    text = re.sub('\\([<{^)]>}*\\)', repl = '', string = text)\n",
    "    text = re.compile('[^ ㄱ-ㅣ가-힣+]').sub('', text).strip()\n",
    "    return [word for [word, pos] in okt.pos(text, norm=True, stem=True) if pos == 'Noun' and 1 < len(word) < 5 and word not in stopwords]"
   ]
  },
  {
   "cell_type": "code",
   "execution_count": 6,
   "metadata": {},
   "outputs": [],
   "source": [
    "tags_data = []\n",
    "for idx, row in df.iterrows():\n",
    "    tags_data.append(row['tags'] + preprocessing(okt, row['plylst_title']))"
   ]
  },
  {
   "cell_type": "code",
   "execution_count": 7,
   "metadata": {},
   "outputs": [],
   "source": [
    "from gensim.models import FastText\n",
    "model = FastText(tags_data, size = 100, window = 5, min_count = 5, workers = 4, sg = 1)"
   ]
  },
  {
   "cell_type": "code",
   "execution_count": 22,
   "metadata": {},
   "outputs": [],
   "source": [
    "model.save('./trained_fasttext.model')"
   ]
  },
  {
   "cell_type": "code",
   "execution_count": 26,
   "metadata": {},
   "outputs": [
    {
     "data": {
      "text/plain": [
       "0.6808478"
      ]
     },
     "execution_count": 26,
     "metadata": {},
     "output_type": "execute_result"
    }
   ],
   "source": [
    "model.wv.similarity('새벽', '슬픔')"
   ]
  }
 ],
 "metadata": {
  "interpreter": {
   "hash": "28a4a7593db0aeb32591c6d880fc2645b662bf2e894ccdeb1773515f315db3ef"
  },
  "kernelspec": {
   "display_name": "Python 3.8.13 ('MLvenv')",
   "language": "python",
   "name": "python3"
  },
  "language_info": {
   "codemirror_mode": {
    "name": "ipython",
    "version": 3
   },
   "file_extension": ".py",
   "mimetype": "text/x-python",
   "name": "python",
   "nbconvert_exporter": "python",
   "pygments_lexer": "ipython3",
   "version": "3.8.13"
  },
  "orig_nbformat": 4
 },
 "nbformat": 4,
 "nbformat_minor": 2
}
