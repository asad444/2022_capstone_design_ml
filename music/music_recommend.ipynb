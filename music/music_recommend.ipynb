{
 "cells": [
  {
   "cell_type": "markdown",
   "metadata": {},
   "source": [
    "클러스터 별 태그를 로드한 후 가장 유사한 클러스터의 곡들과 비교 ?\n",
    "- 유사도를 어떻게 판단할 것인가?\n",
    "- 유사한 클러스터를 몇 개 뽑을 것인가?\n",
    "\n",
    "감정(슬픔/분노/기쁨/중립/걱정) + 키워드"
   ]
  },
  {
   "cell_type": "code",
   "execution_count": 111,
   "metadata": {},
   "outputs": [],
   "source": [
    "import sqlite3\n",
    "import numpy as np\n",
    "from gensim.models import FastText"
   ]
  },
  {
   "cell_type": "code",
   "execution_count": 159,
   "metadata": {},
   "outputs": [],
   "source": [
    "class Music_Recommender:\n",
    "    def __init__(self, \n",
    "                 DB = '../flask_api/db.db',\n",
    "                 fasttext_PATH = './model/trained_fasttext.model'):\n",
    "        self.DB = DB\n",
    "        self.model = FastText.load(fasttext_PATH)\n",
    "    \n",
    "    def connect2db(self):\n",
    "        try:\n",
    "            conn = sqlite3.connect(self.DB)\n",
    "            cur = conn.cursor()\n",
    "        except:\n",
    "            print(\"DB Connection Error!\")\n",
    "            return None, None\n",
    "        return conn, cur \n",
    "    \n",
    "    def load_cluster_tags(self):\n",
    "        conn, cur = self.connect2db()\n",
    "        cur.execute(\"SELECT COUNT(*)/10 FROM CLUSTER\")\n",
    "        n_clusters = cur.fetchall()[0][0]\n",
    "        \n",
    "        cluster_tags = []\n",
    "        try:\n",
    "            for i in range(n_clusters):\n",
    "                cur.execute(\"SELECT tag FROM CLUSTER WHERE label = ?\", [i])\n",
    "                cluster_tags.append([tag for tag, in cur.fetchall()])\n",
    "        except:\n",
    "            pass\n",
    "        finally:\n",
    "            conn.commit()\n",
    "            conn.close()\n",
    "        return cluster_tags\n",
    "    \n",
    "    def find_similar_clusters(self, keywords):\n",
    "        cluster_tags = self.load_cluster_tags()\n",
    "        similarities = []\n",
    "        \n",
    "        for cluster_tag in cluster_tags:\n",
    "            sim = 0\n",
    "            for tag in cluster_tag:\n",
    "                for keyword in keywords:\n",
    "                    sim += self.model.wv.similarity(keyword, tag)\n",
    "            similarities.append(sim)\n",
    "        return np.argsort(similarities)[::-1][:len(similarities)//20]\n",
    "\n",
    "    def run(self, keywords):\n",
    "        # return musics in @sim_clusters and select randomly with weight on 'like_cnt'\n",
    "        sim_clusters = self.find_similar_clusters(keywords)\n",
    "        conn, cur = self.connect2db()\n",
    "        \n",
    "        \n",
    "        pass\n",
    "        \n",
    "        "
   ]
  },
  {
   "cell_type": "code",
   "execution_count": 160,
   "metadata": {},
   "outputs": [
    {
     "data": {
      "text/plain": [
       "array([ 2, 28])"
      ]
     },
     "execution_count": 160,
     "metadata": {},
     "output_type": "execute_result"
    }
   ],
   "source": [
    "recom = Music_Recommender()\n",
    "recom.find_similar_clusters(['기쁨', '드라이브'])"
   ]
  }
 ],
 "metadata": {
  "interpreter": {
   "hash": "28a4a7593db0aeb32591c6d880fc2645b662bf2e894ccdeb1773515f315db3ef"
  },
  "kernelspec": {
   "display_name": "Python 3.8.13 ('MLvenv')",
   "language": "python",
   "name": "python3"
  },
  "language_info": {
   "codemirror_mode": {
    "name": "ipython",
    "version": 3
   },
   "file_extension": ".py",
   "mimetype": "text/x-python",
   "name": "python",
   "nbconvert_exporter": "python",
   "pygments_lexer": "ipython3",
   "version": "3.8.13"
  },
  "orig_nbformat": 4
 },
 "nbformat": 4,
 "nbformat_minor": 2
}
