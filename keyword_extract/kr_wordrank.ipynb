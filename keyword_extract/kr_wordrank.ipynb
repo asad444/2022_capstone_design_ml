{
 "cells": [
  {
   "cell_type": "markdown",
   "metadata": {},
   "source": [
    "requirements\n",
    "- krwordrank\n",
    "- kss"
   ]
  },
  {
   "cell_type": "code",
   "execution_count": 15,
   "metadata": {},
   "outputs": [],
   "source": [
    "from krwordrank.word import summarize_with_keywords\n",
    "from krwordrank.hangle import normalize\n",
    "import kss"
   ]
  },
  {
   "cell_type": "code",
   "execution_count": 63,
   "metadata": {},
   "outputs": [],
   "source": [
    "class Keyword_Extractor:\n",
    "    \n",
    "    def __init__(self, PATH = './stopwords-ko.txt'):\n",
    "        self.path = PATH\n",
    "        # load saved korean stopwords\n",
    "        with open(self.path, 'r') as f:\n",
    "            self.stopwords = [word.rstrip('\\n') for word in f.readlines()]\n",
    "    \n",
    "    # run method\n",
    "    def run(self, text: str):\n",
    "        return self.extract_keyword(self.split_sentences(text))\n",
    "    \n",
    "    def split_sentences(self, text: str):\n",
    "        sentences = kss.split_sentences(text)\n",
    "        return [normalize(sentence, english=True, number=True).replace('.', '') for sentence in sentences]\n",
    "\n",
    "    def extract_keyword(self, sentences: list):\n",
    "        keywords = summarize_with_keywords(\n",
    "            # @min_count and @max_length of extracted keywords\n",
    "            sentences, min_count = 2, max_length = 10,      \n",
    "            beta = 0.85, max_iter = 10, stopwords = self.stopwords,\n",
    "            verbose = False\n",
    "        )\n",
    "        # return most 3 high points keywords\n",
    "        return list(keywords.keys())[:3]\n"
   ]
  },
  {
   "cell_type": "code",
   "execution_count": 67,
   "metadata": {},
   "outputs": [],
   "source": [
    "# text = \"회사 동료 분들과 다녀왔는데 분위기도 좋고 음식도 맛있었어요 다만, 강남 토끼정이 강남 쉑쉑버거 골목길로 쭉 올라가야 하는데 다들 쉑쉑버거의 유혹에 넘어갈 뻔 했답니다 강남역 맛집 토끼정의 외부 모습.\"\n",
    "text = '드론 활용 범위도 점차 확대되고 있다. 최근에는 미세먼지 관리에 드론이 활용되고 있다. 서울시는 \"미세먼지 계절관리제\" 기간인 지난달부터 오는 3월까지 4개월간 드론에 측정장치를 달아 미세먼지 집중 관리를 실시하고 있다. 드론은 산업단지와 사업장 밀집지역을 날아다니며 미세먼지 배출 수치를 점검하고, 현장 모습을 영상으로 담는다. 영상을 통해 미세먼지 방지 시설을 제대로 가동하지 않는 업체와 무허가 시설에 대한 단속이 한층 수월해질 전망이다. 드론 활용에 가장 적극적인 소방청은 광범위하고 복합적인 재난 대응 차원에서 드론과 관련 전문인력 보강을 꾸준히 이어가고 있다. 지난해 말 기준 소방청이 보유한 드론은 총 304대, 드론 조종 자격증을 갖춘 소방대원의 경우 1,860명이다. 이 중 실기평가지도 자격증까지 갖춘 ‘드론 전문가’ 21명도 배치돼 있다. 소방청 관계자는 \"소방드론은 재난현장에서 영상정보를 수집, 산악ㆍ수난 사고 시 인명수색·구조활동, 유독가스·폭발사고 시 대원안전 확보 등에 활용된다\"며 \"향후 화재진압, 인명구조 등에도 드론을 활용하기 위해 연구개발(R&D)을 하고 있다\"고 말했다. '"
   ]
  },
  {
   "cell_type": "code",
   "execution_count": 68,
   "metadata": {},
   "outputs": [
    {
     "data": {
      "text/plain": [
       "['드론', '미세먼지', '갖춘']"
      ]
     },
     "execution_count": 68,
     "metadata": {},
     "output_type": "execute_result"
    }
   ],
   "source": [
    "# test\n",
    "extractor = Keyword_Extractor()\n",
    "extractor.run(text)"
   ]
  }
 ],
 "metadata": {
  "interpreter": {
   "hash": "28a4a7593db0aeb32591c6d880fc2645b662bf2e894ccdeb1773515f315db3ef"
  },
  "kernelspec": {
   "display_name": "Python 3.8.13 ('MLvenv')",
   "language": "python",
   "name": "python3"
  },
  "language_info": {
   "codemirror_mode": {
    "name": "ipython",
    "version": 3
   },
   "file_extension": ".py",
   "mimetype": "text/x-python",
   "name": "python",
   "nbconvert_exporter": "python",
   "pygments_lexer": "ipython3",
   "version": "3.8.13"
  },
  "orig_nbformat": 4
 },
 "nbformat": 4,
 "nbformat_minor": 2
}
